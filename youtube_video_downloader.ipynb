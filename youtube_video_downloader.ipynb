{
 "cells": [
  {
   "cell_type": "code",
   "execution_count": 1,
   "id": "e25c6f11-b3e3-4d37-a10a-3a5a837cd4cb",
   "metadata": {},
   "outputs": [],
   "source": [
    "#pip install yt-dlp"
   ]
  },
  {
   "cell_type": "code",
   "execution_count": 20,
   "id": "5f4d7910-d29b-4535-b140-558458ee56a1",
   "metadata": {},
   "outputs": [
    {
     "name": "stdin",
     "output_type": "stream",
     "text": [
      " https://www.youtube.com/watch?v=TO-_3tck2tg\n"
     ]
    },
    {
     "name": "stdout",
     "output_type": "stream",
     "text": [
      "[youtube] Extracting URL: https://www.youtube.com/watch?v=TO-_3tck2tg\n",
      "[youtube] TO-_3tck2tg: Downloading webpage\n",
      "[youtube] TO-_3tck2tg: Downloading ios player API JSON\n",
      "[youtube] TO-_3tck2tg: Downloading android player API JSON\n"
     ]
    },
    {
     "name": "stderr",
     "output_type": "stream",
     "text": [
      "WARNING: [youtube] Skipping player responses from android clients (got player responses for video \"aQvGIIdgFDM\" instead of \"TO-_3tck2tg\")\n"
     ]
    },
    {
     "name": "stdout",
     "output_type": "stream",
     "text": [
      "[youtube] TO-_3tck2tg: Downloading m3u8 information\n",
      "[info] TO-_3tck2tg: Downloading 1 format(s): 18\n",
      "[download] Destination: Imagine Dragons - Bones (Official Music Video) [TO-_3tck2tg].mp4\n",
      "[download] 100% of    5.52MiB in 00:00:00 at 8.17MiB/s   \n",
      "Video downloaded succesfully!\n"
     ]
    }
   ],
   "source": [
    "import yt_dlp\n",
    "\n",
    "url = input()\n",
    "\n",
    "ydl_opts = {}\n",
    "\n",
    "with yt_dlp.YoutubeDL(ydl_opts) as ydl:\n",
    "    ydl.download([url])\n",
    "print(\"Video downloaded succesfully!\")"
   ]
  },
  {
   "cell_type": "code",
   "execution_count": null,
   "id": "aea37d6f-917c-4eb9-af59-a1d4b0247ed1",
   "metadata": {},
   "outputs": [],
   "source": []
  }
 ],
 "metadata": {
  "kernelspec": {
   "display_name": "Python 3 (ipykernel)",
   "language": "python",
   "name": "python3"
  },
  "language_info": {
   "codemirror_mode": {
    "name": "ipython",
    "version": 3
   },
   "file_extension": ".py",
   "mimetype": "text/x-python",
   "name": "python",
   "nbconvert_exporter": "python",
   "pygments_lexer": "ipython3",
   "version": "3.11.5"
  },
  "widgets": {
   "application/vnd.jupyter.widget-state+json": {
    "state": {},
    "version_major": 2,
    "version_minor": 0
   }
  }
 },
 "nbformat": 4,
 "nbformat_minor": 5
}
